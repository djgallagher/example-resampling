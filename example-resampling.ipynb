{
 "cells": [
  {
   "cell_type": "markdown",
   "metadata": {},
   "source": [
    "# Objective\n",
    "Train a model to predict whether a mushroom is poisonous or not. \n",
    "\n",
    "This dataset has already been cleaned."
   ]
  },
  {
   "cell_type": "markdown",
   "metadata": {},
   "source": [
    "# Data\n",
    "\n",
    "We have one table called data_vs_wild.csv, and it contains 1,000,000 observations from mushrooms in the wild, with information on features such as color and shape. Each one is labeled as safe or poisonous.\n",
    "\n",
    "Note: This dataset was adapted from a dataset provided under the CC0 license here. It has been significantly altered to better reflect what you’d see on a real take-home challenge. (In other words, do not expect any previous papers or scripts written for the original dataset to apply to this one.)\n",
    "\n",
    "### Data Dictionary:\n",
    "\n",
    "* safe – 1=safe to nom,0=poisonous\n",
    "* cap-shape – bell=b,conical=c,convex=x,flat=f, knobbed=k,sunken=s\n",
    "* cap-surface – fibrous=f,grooves=g,scaly=y,smooth=s\n",
    "* cap-color – brown=n,buff=b,cinnamon=c,gray=g,green=r, pink=p,purple=u,red=e,white=w,yellow=y\n",
    "* bruises – bruises=t,no=f\n",
    "* odor – almond=a,anise=l,creosote=c,fishy=y,foul=f, musty=m,none=n,pungent=p,spicy=s\n",
    "* gill-attachment – attached=a,descending=d,free=f,notched=n\n",
    "* gill-spacing – close=c,crowded=w,distant=d\n",
    "* gill-size – broad=b,narrow=n\n",
    "* gill-color – black=k,brown=n,buff=b,chocolate=h,gray=g, green=r,orange=o,pink=p,purple=u,red=e, white=w,yellow=y\n",
    "* stalk-shape – enlarging=e,tapering=t\n",
    "* stalk-root – bulbous=b,club=c,cup=u,equal=e, rhizomorphs=z,rooted=r,missing=?\n",
    "* stalk-surface-above-ring – fibrous=f,scaly=y,silky=k,smooth=s\n",
    "* stalk-surface-below-ring – fibrous=f,scaly=y,silky=k,smooth=s\n",
    "* stalk-color-above-ring – brown=n,buff=b,cinnamon=c,gray=g,orange=o, pink=p,red=e,white=w,yellow=y\n",
    "* stalk-color-below-ring – brown=n,buff=b,cinnamon=c,gray=g,orange=o, pink=p,red=e,white=w,yellow=y\n",
    "* veil-type – partial=p,universal=u\n",
    "* veil-color – brown=n,orange=o,white=w,yellow=y\n",
    "* ring-number – none=n,one=o,two=t\n",
    "* ring-type – cobwebby=c,evanescent=e,flaring=f,large=l, none=n,pendant=p,sheathing=s,zone=z\n",
    "* spore-print-color – black=k,brown=n,buff=b,chocolate=h,green=r, orange=o,purple=u,white=w,yellow=y\n",
    "* population – abundant=a,clustered=c,numerous=n, scattered=s,several=v,solitary=y\n",
    "* habitat – grasses=g,leaves=l,meadows=m,paths=p, urban=u,waste=w,woods=d"
   ]
  },
  {
   "cell_type": "markdown",
   "metadata": {},
   "source": [
    "# 1. Import libraries"
   ]
  },
  {
   "cell_type": "code",
   "execution_count": 9,
   "metadata": {},
   "outputs": [],
   "source": [
    "# numpy for computation\n",
    "import numpy as np\n",
    "\n",
    "# pandas for dataframes\n",
    "import pandas as pd\n",
    "pd.set_option('display.max_columns', 100)\n",
    "\n",
    "# matplotlib for visualization config\n",
    "from matplotlib import pyplot as plt\n",
    "%matplotlib inline\n",
    "\n",
    "# seaborn for easy visualization\n",
    "import seaborn as sns\n",
    "sns.set_style('darkgrid')\n",
    "\n",
    "# train_test_split method\n",
    "from sklearn.model_selection import train_test_split\n",
    "\n",
    "# random forest classifier algo\n",
    "from sklearn.ensemble import RandomForestClassifier\n",
    "\n",
    "# scoring metric\n",
    "from sklearn.metrics import roc_auc_score, roc_curve\n",
    "\n",
    "# resample method for imbalanced classes\n",
    "from sklearn.utils import resample\n"
   ]
  },
  {
   "cell_type": "code",
   "execution_count": 10,
   "metadata": {},
   "outputs": [
    {
     "data": {
      "text/html": [
       "<div>\n",
       "<style scoped>\n",
       "    .dataframe tbody tr th:only-of-type {\n",
       "        vertical-align: middle;\n",
       "    }\n",
       "\n",
       "    .dataframe tbody tr th {\n",
       "        vertical-align: top;\n",
       "    }\n",
       "\n",
       "    .dataframe thead th {\n",
       "        text-align: right;\n",
       "    }\n",
       "</style>\n",
       "<table border=\"1\" class=\"dataframe\">\n",
       "  <thead>\n",
       "    <tr style=\"text-align: right;\">\n",
       "      <th></th>\n",
       "      <th>safe</th>\n",
       "      <th>cap-shape</th>\n",
       "      <th>cap-surface</th>\n",
       "      <th>cap-color</th>\n",
       "      <th>bruises</th>\n",
       "      <th>odor</th>\n",
       "      <th>gill-attachment</th>\n",
       "      <th>gill-spacing</th>\n",
       "      <th>gill-size</th>\n",
       "      <th>gill-color</th>\n",
       "      <th>stalk-shape</th>\n",
       "      <th>stalk-root</th>\n",
       "      <th>stalk-surface-above-ring</th>\n",
       "      <th>stalk-surface-below-ring</th>\n",
       "      <th>stalk-color-above-ring</th>\n",
       "      <th>stalk-color-below-ring</th>\n",
       "      <th>veil-type</th>\n",
       "      <th>veil-color</th>\n",
       "      <th>ring-number</th>\n",
       "      <th>ring-type</th>\n",
       "      <th>spore-print-color</th>\n",
       "      <th>population</th>\n",
       "      <th>habitat</th>\n",
       "    </tr>\n",
       "  </thead>\n",
       "  <tbody>\n",
       "    <tr>\n",
       "      <th>0</th>\n",
       "      <td>0</td>\n",
       "      <td>f</td>\n",
       "      <td>f</td>\n",
       "      <td>e</td>\n",
       "      <td>f</td>\n",
       "      <td>s</td>\n",
       "      <td>a</td>\n",
       "      <td>c</td>\n",
       "      <td>n</td>\n",
       "      <td>b</td>\n",
       "      <td>e</td>\n",
       "      <td>?</td>\n",
       "      <td>s</td>\n",
       "      <td>k</td>\n",
       "      <td>p</td>\n",
       "      <td>w</td>\n",
       "      <td>p</td>\n",
       "      <td>y</td>\n",
       "      <td>o</td>\n",
       "      <td>e</td>\n",
       "      <td>w</td>\n",
       "      <td>v</td>\n",
       "      <td>l</td>\n",
       "    </tr>\n",
       "    <tr>\n",
       "      <th>1</th>\n",
       "      <td>0</td>\n",
       "      <td>x</td>\n",
       "      <td>f</td>\n",
       "      <td>y</td>\n",
       "      <td>f</td>\n",
       "      <td>p</td>\n",
       "      <td>a</td>\n",
       "      <td>c</td>\n",
       "      <td>n</td>\n",
       "      <td>u</td>\n",
       "      <td>e</td>\n",
       "      <td>e</td>\n",
       "      <td>k</td>\n",
       "      <td>k</td>\n",
       "      <td>g</td>\n",
       "      <td>p</td>\n",
       "      <td>p</td>\n",
       "      <td>n</td>\n",
       "      <td>t</td>\n",
       "      <td>l</td>\n",
       "      <td>h</td>\n",
       "      <td>y</td>\n",
       "      <td>w</td>\n",
       "    </tr>\n",
       "    <tr>\n",
       "      <th>2</th>\n",
       "      <td>0</td>\n",
       "      <td>b</td>\n",
       "      <td>g</td>\n",
       "      <td>n</td>\n",
       "      <td>t</td>\n",
       "      <td>n</td>\n",
       "      <td>f</td>\n",
       "      <td>c</td>\n",
       "      <td>b</td>\n",
       "      <td>k</td>\n",
       "      <td>e</td>\n",
       "      <td>b</td>\n",
       "      <td>k</td>\n",
       "      <td>y</td>\n",
       "      <td>g</td>\n",
       "      <td>g</td>\n",
       "      <td>p</td>\n",
       "      <td>w</td>\n",
       "      <td>o</td>\n",
       "      <td>f</td>\n",
       "      <td>w</td>\n",
       "      <td>v</td>\n",
       "      <td>m</td>\n",
       "    </tr>\n",
       "  </tbody>\n",
       "</table>\n",
       "</div>"
      ],
      "text/plain": [
       "   safe cap-shape cap-surface cap-color bruises odor gill-attachment  \\\n",
       "0     0         f           f         e       f    s               a   \n",
       "1     0         x           f         y       f    p               a   \n",
       "2     0         b           g         n       t    n               f   \n",
       "\n",
       "  gill-spacing gill-size gill-color stalk-shape stalk-root  \\\n",
       "0            c         n          b           e          ?   \n",
       "1            c         n          u           e          e   \n",
       "2            c         b          k           e          b   \n",
       "\n",
       "  stalk-surface-above-ring stalk-surface-below-ring stalk-color-above-ring  \\\n",
       "0                        s                        k                      p   \n",
       "1                        k                        k                      g   \n",
       "2                        k                        y                      g   \n",
       "\n",
       "  stalk-color-below-ring veil-type veil-color ring-number ring-type  \\\n",
       "0                      w         p          y           o         e   \n",
       "1                      p         p          n           t         l   \n",
       "2                      g         p          w           o         f   \n",
       "\n",
       "  spore-print-color population habitat  \n",
       "0                 w          v       l  \n",
       "1                 h          y       w  \n",
       "2                 w          v       m  "
      ]
     },
     "execution_count": 10,
     "metadata": {},
     "output_type": "execute_result"
    }
   ],
   "source": [
    "# csv to dataframe \n",
    "df = pd.read_csv('data_vs_wild.csv')\n",
    "df.head(3)"
   ]
  },
  {
   "cell_type": "markdown",
   "metadata": {},
   "source": [
    "# 2. Data exploration"
   ]
  },
  {
   "cell_type": "code",
   "execution_count": 11,
   "metadata": {},
   "outputs": [
    {
     "name": "stdout",
     "output_type": "stream",
     "text": [
      "<class 'pandas.core.frame.DataFrame'>\n",
      "RangeIndex: 1000000 entries, 0 to 999999\n",
      "Data columns (total 23 columns):\n",
      " #   Column                    Non-Null Count    Dtype \n",
      "---  ------                    --------------    ----- \n",
      " 0   safe                      1000000 non-null  int64 \n",
      " 1   cap-shape                 1000000 non-null  object\n",
      " 2   cap-surface               1000000 non-null  object\n",
      " 3   cap-color                 1000000 non-null  object\n",
      " 4   bruises                   1000000 non-null  object\n",
      " 5   odor                      1000000 non-null  object\n",
      " 6   gill-attachment           1000000 non-null  object\n",
      " 7   gill-spacing              1000000 non-null  object\n",
      " 8   gill-size                 1000000 non-null  object\n",
      " 9   gill-color                1000000 non-null  object\n",
      " 10  stalk-shape               1000000 non-null  object\n",
      " 11  stalk-root                1000000 non-null  object\n",
      " 12  stalk-surface-above-ring  1000000 non-null  object\n",
      " 13  stalk-surface-below-ring  1000000 non-null  object\n",
      " 14  stalk-color-above-ring    1000000 non-null  object\n",
      " 15  stalk-color-below-ring    1000000 non-null  object\n",
      " 16  veil-type                 1000000 non-null  object\n",
      " 17  veil-color                1000000 non-null  object\n",
      " 18  ring-number               1000000 non-null  object\n",
      " 19  ring-type                 1000000 non-null  object\n",
      " 20  spore-print-color         1000000 non-null  object\n",
      " 21  population                1000000 non-null  object\n",
      " 22  habitat                   1000000 non-null  object\n",
      "dtypes: int64(1), object(22)\n",
      "memory usage: 175.5+ MB\n"
     ]
    }
   ],
   "source": [
    "# get info\n",
    "df.info()"
   ]
  },
  {
   "cell_type": "code",
   "execution_count": 12,
   "metadata": {},
   "outputs": [
    {
     "data": {
      "text/html": [
       "<div>\n",
       "<style scoped>\n",
       "    .dataframe tbody tr th:only-of-type {\n",
       "        vertical-align: middle;\n",
       "    }\n",
       "\n",
       "    .dataframe tbody tr th {\n",
       "        vertical-align: top;\n",
       "    }\n",
       "\n",
       "    .dataframe thead th {\n",
       "        text-align: right;\n",
       "    }\n",
       "</style>\n",
       "<table border=\"1\" class=\"dataframe\">\n",
       "  <thead>\n",
       "    <tr style=\"text-align: right;\">\n",
       "      <th></th>\n",
       "      <th>cap-shape</th>\n",
       "      <th>cap-surface</th>\n",
       "      <th>cap-color</th>\n",
       "      <th>bruises</th>\n",
       "      <th>odor</th>\n",
       "      <th>gill-attachment</th>\n",
       "      <th>gill-spacing</th>\n",
       "      <th>gill-size</th>\n",
       "      <th>gill-color</th>\n",
       "      <th>stalk-shape</th>\n",
       "      <th>stalk-root</th>\n",
       "      <th>stalk-surface-above-ring</th>\n",
       "      <th>stalk-surface-below-ring</th>\n",
       "      <th>stalk-color-above-ring</th>\n",
       "      <th>stalk-color-below-ring</th>\n",
       "      <th>veil-type</th>\n",
       "      <th>veil-color</th>\n",
       "      <th>ring-number</th>\n",
       "      <th>ring-type</th>\n",
       "      <th>spore-print-color</th>\n",
       "      <th>population</th>\n",
       "      <th>habitat</th>\n",
       "    </tr>\n",
       "  </thead>\n",
       "  <tbody>\n",
       "    <tr>\n",
       "      <th>count</th>\n",
       "      <td>1000000</td>\n",
       "      <td>1000000</td>\n",
       "      <td>1000000</td>\n",
       "      <td>1000000</td>\n",
       "      <td>1000000</td>\n",
       "      <td>1000000</td>\n",
       "      <td>1000000</td>\n",
       "      <td>1000000</td>\n",
       "      <td>1000000</td>\n",
       "      <td>1000000</td>\n",
       "      <td>1000000</td>\n",
       "      <td>1000000</td>\n",
       "      <td>1000000</td>\n",
       "      <td>1000000</td>\n",
       "      <td>1000000</td>\n",
       "      <td>1000000</td>\n",
       "      <td>1000000</td>\n",
       "      <td>1000000</td>\n",
       "      <td>1000000</td>\n",
       "      <td>1000000</td>\n",
       "      <td>1000000</td>\n",
       "      <td>1000000</td>\n",
       "    </tr>\n",
       "    <tr>\n",
       "      <th>unique</th>\n",
       "      <td>6</td>\n",
       "      <td>4</td>\n",
       "      <td>10</td>\n",
       "      <td>2</td>\n",
       "      <td>9</td>\n",
       "      <td>2</td>\n",
       "      <td>2</td>\n",
       "      <td>2</td>\n",
       "      <td>12</td>\n",
       "      <td>2</td>\n",
       "      <td>5</td>\n",
       "      <td>4</td>\n",
       "      <td>4</td>\n",
       "      <td>9</td>\n",
       "      <td>9</td>\n",
       "      <td>1</td>\n",
       "      <td>4</td>\n",
       "      <td>3</td>\n",
       "      <td>5</td>\n",
       "      <td>9</td>\n",
       "      <td>6</td>\n",
       "      <td>7</td>\n",
       "    </tr>\n",
       "    <tr>\n",
       "      <th>top</th>\n",
       "      <td>x</td>\n",
       "      <td>y</td>\n",
       "      <td>n</td>\n",
       "      <td>f</td>\n",
       "      <td>f</td>\n",
       "      <td>f</td>\n",
       "      <td>c</td>\n",
       "      <td>n</td>\n",
       "      <td>b</td>\n",
       "      <td>t</td>\n",
       "      <td>b</td>\n",
       "      <td>k</td>\n",
       "      <td>k</td>\n",
       "      <td>w</td>\n",
       "      <td>w</td>\n",
       "      <td>p</td>\n",
       "      <td>w</td>\n",
       "      <td>o</td>\n",
       "      <td>e</td>\n",
       "      <td>w</td>\n",
       "      <td>v</td>\n",
       "      <td>d</td>\n",
       "    </tr>\n",
       "    <tr>\n",
       "      <th>freq</th>\n",
       "      <td>301106</td>\n",
       "      <td>346351</td>\n",
       "      <td>180545</td>\n",
       "      <td>668946</td>\n",
       "      <td>330047</td>\n",
       "      <td>747593</td>\n",
       "      <td>735686</td>\n",
       "      <td>533439</td>\n",
       "      <td>261334</td>\n",
       "      <td>506740</td>\n",
       "      <td>337137</td>\n",
       "      <td>408020</td>\n",
       "      <td>398845</td>\n",
       "      <td>274117</td>\n",
       "      <td>270045</td>\n",
       "      <td>1000000</td>\n",
       "      <td>623665</td>\n",
       "      <td>652742</td>\n",
       "      <td>325713</td>\n",
       "      <td>286068</td>\n",
       "      <td>445866</td>\n",
       "      <td>233038</td>\n",
       "    </tr>\n",
       "  </tbody>\n",
       "</table>\n",
       "</div>"
      ],
      "text/plain": [
       "       cap-shape cap-surface cap-color  bruises     odor gill-attachment  \\\n",
       "count    1000000     1000000   1000000  1000000  1000000         1000000   \n",
       "unique         6           4        10        2        9               2   \n",
       "top            x           y         n        f        f               f   \n",
       "freq      301106      346351    180545   668946   330047          747593   \n",
       "\n",
       "       gill-spacing gill-size gill-color stalk-shape stalk-root  \\\n",
       "count       1000000   1000000    1000000     1000000    1000000   \n",
       "unique            2         2         12           2          5   \n",
       "top               c         n          b           t          b   \n",
       "freq         735686    533439     261334      506740     337137   \n",
       "\n",
       "       stalk-surface-above-ring stalk-surface-below-ring  \\\n",
       "count                   1000000                  1000000   \n",
       "unique                        4                        4   \n",
       "top                           k                        k   \n",
       "freq                     408020                   398845   \n",
       "\n",
       "       stalk-color-above-ring stalk-color-below-ring veil-type veil-color  \\\n",
       "count                 1000000                1000000   1000000    1000000   \n",
       "unique                      9                      9         1          4   \n",
       "top                         w                      w         p          w   \n",
       "freq                   274117                 270045   1000000     623665   \n",
       "\n",
       "       ring-number ring-type spore-print-color population  habitat  \n",
       "count      1000000   1000000           1000000    1000000  1000000  \n",
       "unique           3         5                 9          6        7  \n",
       "top              o         e                 w          v        d  \n",
       "freq        652742    325713            286068     445866   233038  "
      ]
     },
     "execution_count": 12,
     "metadata": {},
     "output_type": "execute_result"
    }
   ],
   "source": [
    "# get info\n",
    "df.describe(include='object')"
   ]
  },
  {
   "cell_type": "markdown",
   "metadata": {},
   "source": [
    "__All features are categorical. Too many to deal with sparse categories.__\n",
    "\n",
    "__Decision to create abt with dummy features.__"
   ]
  },
  {
   "cell_type": "markdown",
   "metadata": {},
   "source": [
    "# 3. Feature engineering\n",
    "Create analytical base table"
   ]
  },
  {
   "cell_type": "code",
   "execution_count": 13,
   "metadata": {},
   "outputs": [],
   "source": [
    "# abt\n",
    "abt = pd.get_dummies(df, drop_first=True)"
   ]
  },
  {
   "cell_type": "markdown",
   "metadata": {},
   "source": [
    "# 4. Machine learning\n",
    "1. split data into feature and target (X and y)\n",
    "2. split X and y into X_train, X_test, y_train, y_test\n",
    "3. fit and train classifier\n",
    "4. generate predictions\n",
    "5. evaluate"
   ]
  },
  {
   "cell_type": "code",
   "execution_count": 14,
   "metadata": {},
   "outputs": [
    {
     "name": "stdout",
     "output_type": "stream",
     "text": [
      "X shape (1000000, 95)\n",
      "y shape (1000000,)\n"
     ]
    }
   ],
   "source": [
    "# initialize X and y variables\n",
    "X = abt.drop('safe', axis=1)\n",
    "y = abt.safe\n",
    "\n",
    "print('X shape', X.shape)\n",
    "print('y shape', y.shape)"
   ]
  },
  {
   "cell_type": "code",
   "execution_count": 15,
   "metadata": {},
   "outputs": [
    {
     "name": "stdout",
     "output_type": "stream",
     "text": [
      "X_train (750000, 95)\n",
      "y_train (750000,)\n",
      "X_test (250000, 95)\n",
      "y_test (250000,)\n"
     ]
    }
   ],
   "source": [
    "# split into train and test\n",
    "X_train, X_test, y_train, y_test = train_test_split(X, y, stratify=abt.safe, random_state=123)\n",
    "\n",
    "print('X_train', X_train.shape)\n",
    "print('y_train', y_train.shape)\n",
    "print('X_test', X_test.shape)\n",
    "print('y_test', y_test.shape)"
   ]
  },
  {
   "cell_type": "code",
   "execution_count": 16,
   "metadata": {},
   "outputs": [
    {
     "data": {
      "text/plain": [
       "RandomForestClassifier(random_state=123)"
      ]
     },
     "execution_count": 16,
     "metadata": {},
     "output_type": "execute_result"
    }
   ],
   "source": [
    "# initialize random forest classifier\n",
    "clf = RandomForestClassifier(random_state=123)\n",
    "\n",
    "# fit model to X\n",
    "clf.fit(X_train, y_train)\n"
   ]
  },
  {
   "cell_type": "code",
   "execution_count": 17,
   "metadata": {},
   "outputs": [],
   "source": [
    "# generate predictions\n",
    "pred = clf.predict_proba(X_test)\n",
    "pred = [p[1] for p in pred]"
   ]
  },
  {
   "cell_type": "code",
   "execution_count": 18,
   "metadata": {},
   "outputs": [
    {
     "name": "stdout",
     "output_type": "stream",
     "text": [
      "0.9063434638094472\n"
     ]
    }
   ],
   "source": [
    "# calculate auroc\n",
    "auroc = roc_auc_score(y_test, pred)\n",
    "print( auroc )"
   ]
  },
  {
   "cell_type": "markdown",
   "metadata": {},
   "source": [
    "# 5. Dealing with imbalanced classes"
   ]
  },
  {
   "cell_type": "markdown",
   "metadata": {},
   "source": [
    "In this scenario, we should only up/down-sample for the training set, not the test set. The test set should still represent the same proportion of safe/poisonous mushrooms that would be found in the wild."
   ]
  },
  {
   "cell_type": "code",
   "execution_count": 19,
   "metadata": {},
   "outputs": [],
   "source": [
    "# rebuild train\n",
    "train = X_train.copy()\n",
    "train['safe'] = y_train\n",
    "\n",
    "# minority and majority class tables\n",
    "train_minority = train[train.safe == 1]\n",
    "train_majority = train[train.safe == 0]"
   ]
  },
  {
   "cell_type": "markdown",
   "metadata": {},
   "source": [
    "## 5.1  Upsampling"
   ]
  },
  {
   "cell_type": "code",
   "execution_count": 20,
   "metadata": {},
   "outputs": [
    {
     "data": {
      "text/plain": [
       "1    746881\n",
       "0    746881\n",
       "Name: safe, dtype: int64"
      ]
     },
     "execution_count": 20,
     "metadata": {},
     "output_type": "execute_result"
    }
   ],
   "source": [
    "# upsample minority\n",
    "minority_upsampled = resample(train_minority, \n",
    "                              replace=True, \n",
    "                              n_samples=len(train_majority), \n",
    "                              random_state=123)\n",
    "\n",
    "# combine majority with upsampled minority\n",
    "train_upsampled = pd.concat([train_majority, minority_upsampled])\n",
    "\n",
    "# display value counts\n",
    "train_upsampled.safe.value_counts()"
   ]
  },
  {
   "cell_type": "code",
   "execution_count": 21,
   "metadata": {},
   "outputs": [],
   "source": [
    "X_train_us = train_upsampled.drop('safe', axis=1)\n",
    "y_train_us = train_upsampled.safe"
   ]
  },
  {
   "cell_type": "code",
   "execution_count": 22,
   "metadata": {},
   "outputs": [
    {
     "data": {
      "text/plain": [
       "RandomForestClassifier(random_state=123)"
      ]
     },
     "execution_count": 22,
     "metadata": {},
     "output_type": "execute_result"
    }
   ],
   "source": [
    "clf_us = RandomForestClassifier(random_state=123)\n",
    "clf_us.fit(X_train_us, y_train_us)"
   ]
  },
  {
   "cell_type": "code",
   "execution_count": 23,
   "metadata": {},
   "outputs": [],
   "source": [
    "pred_us = clf_us.predict_proba(X_test)\n",
    "pred_us = [p[1] for p in pred_us]"
   ]
  },
  {
   "cell_type": "code",
   "execution_count": 24,
   "metadata": {},
   "outputs": [
    {
     "name": "stdout",
     "output_type": "stream",
     "text": [
      "0.9176218800981314\n"
     ]
    }
   ],
   "source": [
    "# calculate auroc\n",
    "auroc_us = roc_auc_score(y_test, pred_us)\n",
    "print( auroc_us )"
   ]
  },
  {
   "cell_type": "markdown",
   "metadata": {},
   "source": [
    "## 5.2 Downsampling"
   ]
  },
  {
   "cell_type": "code",
   "execution_count": 25,
   "metadata": {},
   "outputs": [
    {
     "data": {
      "text/plain": [
       "1    3119\n",
       "0    3119\n",
       "Name: safe, dtype: int64"
      ]
     },
     "execution_count": 25,
     "metadata": {},
     "output_type": "execute_result"
    }
   ],
   "source": [
    "# downsample majority\n",
    "majority_downsampled = train_majority.sample(n=len(train_minority),\n",
    "                                            random_state=321)\n",
    "\n",
    "# combine majority with trained minority \n",
    "train_downsampled = pd.concat([train_minority, majority_downsampled])\n",
    "\n",
    "# display value counts\n",
    "train_downsampled.safe.value_counts()"
   ]
  },
  {
   "cell_type": "code",
   "execution_count": 26,
   "metadata": {},
   "outputs": [],
   "source": [
    "# New X_train and y_train for downsampled (_ds)\n",
    "y_train_ds = train_downsampled.safe\n",
    "X_train_ds = train_downsampled.drop('safe', axis=1)"
   ]
  },
  {
   "cell_type": "code",
   "execution_count": 27,
   "metadata": {},
   "outputs": [
    {
     "data": {
      "text/plain": [
       "RandomForestClassifier(random_state=1234)"
      ]
     },
     "execution_count": 27,
     "metadata": {},
     "output_type": "execute_result"
    }
   ],
   "source": [
    "# Train new classifer (downsampled train set)\n",
    "clf_ds = RandomForestClassifier(random_state=1234)\n",
    "clf_ds.fit(X_train_ds, y_train_ds)"
   ]
  },
  {
   "cell_type": "code",
   "execution_count": 28,
   "metadata": {},
   "outputs": [],
   "source": [
    "pred_ds = clf_ds.predict_proba(X_test)\n",
    "pred_ds = [p[1] for p in pred_ds]"
   ]
  },
  {
   "cell_type": "code",
   "execution_count": 29,
   "metadata": {},
   "outputs": [
    {
     "name": "stdout",
     "output_type": "stream",
     "text": [
      "0.9465168987603816\n"
     ]
    }
   ],
   "source": [
    "auroc_ds = roc_auc_score(y_test, pred_ds)\n",
    "print( auroc_ds )"
   ]
  },
  {
   "cell_type": "markdown",
   "metadata": {},
   "source": [
    "## 5.3 Compare models"
   ]
  },
  {
   "cell_type": "markdown",
   "metadata": {},
   "source": [
    "Calculate false positive and true positive rates"
   ]
  },
  {
   "cell_type": "code",
   "execution_count": 30,
   "metadata": {},
   "outputs": [],
   "source": [
    "# benchmark\n",
    "fpr, tpr, threshold = roc_curve(y_test, pred)\n",
    "\n",
    "# upsampled\n",
    "fpr_us, tpr_us, threshold_us = roc_curve(y_test, pred_us)\n",
    "\n",
    "# downsampled\n",
    "fpr_ds, tpr_ds, threshold_ds = roc_curve(y_test, pred_ds)"
   ]
  },
  {
   "cell_type": "markdown",
   "metadata": {},
   "source": [
    "plot roc curves"
   ]
  },
  {
   "cell_type": "code",
   "execution_count": 31,
   "metadata": {},
   "outputs": [
    {
     "data": {
      "image/png": "[encoded data removed]",
      "text/plain": [
       "<Figure size 720x576 with 1 Axes>"
      ]
     },
     "metadata": {},
     "output_type": "display_data"
    }
   ],
   "source": [
    "plt.figure(figsize=(10, 8))\n",
    "plt.title('Receiver Operating Statistic')\n",
    "\n",
    "plt.plot(fpr, tpr, label = 'AUROC = %0.2f' % auroc)\n",
    "plt.plot(fpr_us, tpr_us,label = 'AUROC_us = %0.2f' % auroc_us)\n",
    "plt.plot(fpr_ds, tpr_ds, label = 'AUROC_ds = %0.2f' % auroc_ds)\n",
    "\n",
    "plt.plot([0,1], [0,1], 'r--')\n",
    "\n",
    "plt.xlim([0,1])\n",
    "plt.ylim([0,1])\n",
    "plt.xlabel('false positive rate')\n",
    "plt.ylabel('true positve rate')\n",
    "plt.legend(loc = 'lower right')\n",
    "\n",
    "plt.show()\n"
   ]
  },
  {
   "cell_type": "markdown",
   "metadata": {},
   "source": [
    "# 6. Conclusion\n",
    "\n",
    "When the threshold is high (left side of the chart), all models perform similarly. The false positive rate is low, but so is the true positive rate. This means that although we won't be eating many poisonous mushrooms, we also won't risk eating many in general.\n",
    "\n",
    "However, if we decrease the threshold, the downsampled model proves to be more useful. For example, if we can endure a FPR of 10%, we can achieve a true positive rate of 90%.\n",
    "\n",
    "This threshold will depend on how much poison we can sustain without starving.\n",
    "\n"
   ]
  },
  {
   "cell_type": "code",
   "execution_count": null,
   "metadata": {},
   "outputs": [],
   "source": []
  }
 ],
 "metadata": {
  "kernelspec": {
   "display_name": "Python 3",
   "language": "python",
   "name": "python3"
  },
  "language_info": {
   "codemirror_mode": {
    "name": "ipython",
    "version": 3
   },
   "file_extension": ".py",
   "mimetype": "text/x-python",
   "name": "python",
   "nbconvert_exporter": "python",
   "pygments_lexer": "ipython3",
   "version": "3.8.5"
  }
 },
 "nbformat": 4,
 "nbformat_minor": 4
}
